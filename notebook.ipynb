{
 "cells": [
  {
   "cell_type": "markdown",
   "id": "6cf8ceee",
   "metadata": {},
   "source": [
    "### Test Your Code Here"
   ]
  },
  {
   "cell_type": "code",
   "execution_count": 3,
   "id": "ed26b81d",
   "metadata": {},
   "outputs": [],
   "source": [
    "from bank import Bank\n",
    "from user import BankUser"
   ]
  },
  {
   "cell_type": "code",
   "execution_count": 4,
   "id": "99e6639a",
   "metadata": {},
   "outputs": [],
   "source": [
    "bank_one = Bank(\"Chase\")"
   ]
  },
  {
   "cell_type": "code",
   "execution_count": null,
   "id": "86d2d83b",
   "metadata": {},
   "outputs": [],
   "source": [
    "#should be an error, we dont want to be able to access the bank data\n",
    "bank_one.__bank_data"
   ]
  },
  {
   "cell_type": "code",
   "execution_count": 5,
   "id": "f7ccf953",
   "metadata": {},
   "outputs": [],
   "source": [
    "user_one = BankUser(\"theuser2\", \"123#\", bank_one)"
   ]
  },
  {
   "cell_type": "code",
   "execution_count": null,
   "id": "877fe799",
   "metadata": {},
   "outputs": [],
   "source": [
    "#should be an error, we dont want to be able to access users password\n",
    "user_one.__password"
   ]
  },
  {
   "cell_type": "code",
   "execution_count": null,
   "id": "707b5c76",
   "metadata": {},
   "outputs": [],
   "source": [
    "#output should be zero\n",
    "user_one.check_balance()"
   ]
  },
  {
   "cell_type": "code",
   "execution_count": 6,
   "id": "b940882a",
   "metadata": {},
   "outputs": [
    {
     "name": "stdout",
     "output_type": "stream",
     "text": [
      "Success.\n",
      "bank success\n",
      "100\n"
     ]
    }
   ],
   "source": [
    "user_one.deposit(150)\n",
    "\n",
    "user_one.withdraw(50)\n",
    "\n",
    "#output should be 100\n",
    "user_one.check_balance()"
   ]
  },
  {
   "cell_type": "code",
   "execution_count": 7,
   "id": "fa1bf91b",
   "metadata": {},
   "outputs": [
    {
     "name": "stdout",
     "output_type": "stream",
     "text": [
      "Insufficient funds.\n"
     ]
    }
   ],
   "source": [
    "#should not work since balance is only 50\n",
    "user_one.withdraw(2000)"
   ]
  }
 ],
 "metadata": {
  "kernelspec": {
   "display_name": "Python 3",
   "language": "python",
   "name": "python3"
  },
  "language_info": {
   "codemirror_mode": {
    "name": "ipython",
    "version": 3
   },
   "file_extension": ".py",
   "mimetype": "text/x-python",
   "name": "python",
   "nbconvert_exporter": "python",
   "pygments_lexer": "ipython3",
   "version": "3.11.9"
  }
 },
 "nbformat": 4,
 "nbformat_minor": 5
}
